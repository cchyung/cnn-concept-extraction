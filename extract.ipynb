{
 "cells": [
  {
   "cell_type": "code",
   "execution_count": 1,
   "metadata": {},
   "outputs": [],
   "source": [
    "from __future__ import print_function, division\n",
    "import os\n",
    "\n",
    "import numpy as np\n",
    "import pandas as pd\n",
    "import matplotlib.pyplot as plt\n",
    "import matplotlib.image as im\n",
    "from PIL import Image\n",
    "import skimage\n",
    "from tqdm import tqdm, tqdm_notebook\n",
    "import re\n",
    "import math\n",
    "\n",
    "import torch\n",
    "from torch.utils.data import Dataset, DataLoader\n",
    "from torchvision import transforms, utils, datasets\n",
    "import torchvision.models as models\n",
    "from torch.autograd import Variable\n",
    "from sklearn import linear_model\n",
    "from torch import nn\n",
    "\n",
    "\n",
    "%load_ext autoreload\n",
    "%autoreload 2"
   ]
  },
  {
   "cell_type": "code",
   "execution_count": 2,
   "metadata": {},
   "outputs": [],
   "source": [
    "data_dir = 'dataset/broden1_227/'\n",
    "df = pd.read_csv(data_dir + 'processed_index.csv')\n",
    "df.drop(df.columns[df.columns.str.contains('unnamed',case = False)],axis = 1, inplace = True) # temp remove unnamed garbage col\n",
    "df.insert(0, 'encoded', '')"
   ]
  },
  {
   "cell_type": "code",
   "execution_count": 3,
   "metadata": {},
   "outputs": [],
   "source": [
    "def filter_by_category(df, category):\n",
    "    pattern = \"[%i]\" % category\n",
    "    return df[df['features'].str.contains(pattern, regex=False)]\n",
    "    \n",
    "def filter_by_not_category(df, category):\n",
    "    pattern = \"[%i]\" % category\n",
    "    return df[~df['features'].str.contains(pattern, regex=False)]"
   ]
  },
  {
   "cell_type": "code",
   "execution_count": 4,
   "metadata": {},
   "outputs": [],
   "source": [
    "device = torch.device('cuda:0')"
   ]
  },
  {
   "cell_type": "code",
   "execution_count": 5,
   "metadata": {},
   "outputs": [
    {
     "data": {
      "text/plain": [
       "AlexNet(\n",
       "  (features): Sequential(\n",
       "    (0): Conv2d(3, 64, kernel_size=(11, 11), stride=(4, 4), padding=(2, 2))\n",
       "    (1): ReLU(inplace)\n",
       "    (2): MaxPool2d(kernel_size=3, stride=2, padding=0, dilation=1, ceil_mode=False)\n",
       "    (3): Conv2d(64, 192, kernel_size=(5, 5), stride=(1, 1), padding=(2, 2))\n",
       "    (4): ReLU(inplace)\n",
       "    (5): MaxPool2d(kernel_size=3, stride=2, padding=0, dilation=1, ceil_mode=False)\n",
       "    (6): Conv2d(192, 384, kernel_size=(3, 3), stride=(1, 1), padding=(1, 1))\n",
       "    (7): ReLU(inplace)\n",
       "    (8): Conv2d(384, 256, kernel_size=(3, 3), stride=(1, 1), padding=(1, 1))\n",
       "    (9): ReLU(inplace)\n",
       "    (10): Conv2d(256, 256, kernel_size=(3, 3), stride=(1, 1), padding=(1, 1))\n",
       "    (11): ReLU(inplace)\n",
       "    (12): MaxPool2d(kernel_size=3, stride=2, padding=0, dilation=1, ceil_mode=False)\n",
       "  )\n",
       "  (classifier): Sequential(\n",
       "    (0): Dropout(p=0.5)\n",
       "    (1): Linear(in_features=9216, out_features=4096, bias=True)\n",
       "    (2): ReLU(inplace)\n",
       "    (3): Dropout(p=0.5)\n",
       "    (4): Linear(in_features=4096, out_features=4096, bias=True)\n",
       "    (5): ReLU(inplace)\n",
       "    (6): Linear(in_features=4096, out_features=1000, bias=True)\n",
       "  )\n",
       ")"
      ]
     },
     "execution_count": 5,
     "metadata": {},
     "output_type": "execute_result"
    }
   ],
   "source": [
    "model = models.alexnet(pretrained=True)\n",
    "\n",
    "model.to(device)"
   ]
  },
  {
   "cell_type": "code",
   "execution_count": 6,
   "metadata": {},
   "outputs": [
    {
     "data": {
      "text/plain": [
       "AlexNet(\n",
       "  (features): Sequential(\n",
       "    (0): Conv2d(3, 64, kernel_size=(11, 11), stride=(4, 4), padding=(2, 2))\n",
       "    (1): ReLU(inplace)\n",
       "    (2): MaxPool2d(kernel_size=3, stride=2, padding=0, dilation=1, ceil_mode=False)\n",
       "    (3): Conv2d(64, 192, kernel_size=(5, 5), stride=(1, 1), padding=(2, 2))\n",
       "    (4): ReLU(inplace)\n",
       "    (5): MaxPool2d(kernel_size=3, stride=2, padding=0, dilation=1, ceil_mode=False)\n",
       "    (6): Conv2d(192, 384, kernel_size=(3, 3), stride=(1, 1), padding=(1, 1))\n",
       "    (7): ReLU(inplace)\n",
       "    (8): Conv2d(384, 256, kernel_size=(3, 3), stride=(1, 1), padding=(1, 1))\n",
       "    (9): ReLU(inplace)\n",
       "    (10): Conv2d(256, 256, kernel_size=(3, 3), stride=(1, 1), padding=(1, 1))\n",
       "    (11): ReLU(inplace)\n",
       "    (12): MaxPool2d(kernel_size=3, stride=2, padding=0, dilation=1, ceil_mode=False)\n",
       "  )\n",
       "  (classifier): Sequential(\n",
       "    (0): Dropout(p=0.5)\n",
       "    (1): Linear(in_features=9216, out_features=4096, bias=True)\n",
       "    (2): ReLU(inplace)\n",
       "    (3): Dropout(p=0.5)\n",
       "    (4): Linear(in_features=4096, out_features=4096, bias=True)\n",
       "    (5): ReLU(inplace)\n",
       "    (6): Linear(in_features=4096, out_features=1000, bias=True)\n",
       "  )\n",
       ")"
      ]
     },
     "execution_count": 6,
     "metadata": {},
     "output_type": "execute_result"
    }
   ],
   "source": [
    "outputs = []\n",
    "\n",
    "def hook(module, input, output):\n",
    "    layer_output = output.data.cpu()\n",
    "    outputs.append(layer_output)\n",
    "        \n",
    "model.features[6].register_forward_hook(hook) # register hook to access specific layer\n",
    "model.eval()"
   ]
  },
  {
   "cell_type": "code",
   "execution_count": 7,
   "metadata": {},
   "outputs": [],
   "source": [
    "class CategoryDataSet(Dataset):\n",
    "    def __init__(self, df, img_dir, transform=None):\n",
    "        self.dataframe = df\n",
    "        self.root_dir = img_dir\n",
    "        self.transform = transform\n",
    "    \n",
    "    def __len__(self):\n",
    "        return len(self.dataframe)\n",
    "    \n",
    "    def __getitem__(self, idx):\n",
    "        imgfile = os.path.join(self.root_dir,\n",
    "                                self.dataframe.at[idx, 'image'])\n",
    "        image = Image.open(imgfile)\n",
    "        \n",
    "        if self.transform:\n",
    "            image = self.transform(image)\n",
    "            \n",
    "        sample = (image, idx)\n",
    "        \n",
    "        return sample"
   ]
  },
  {
   "cell_type": "code",
   "execution_count": 8,
   "metadata": {},
   "outputs": [],
   "source": [
    "tf = transforms.Compose([transforms.Resize(224), transforms.ToTensor()])\n",
    "\n",
    "dataset = CategoryDataSet(df, data_dir + 'images/', transform=tf)\n",
    "dataloader = torch.utils.data.DataLoader(dataset, batch_size=30, shuffle=False, num_workers=1)"
   ]
  },
  {
   "cell_type": "code",
   "execution_count": 9,
   "metadata": {},
   "outputs": [],
   "source": [
    "torch.cuda.empty_cache()"
   ]
  },
  {
   "cell_type": "code",
   "execution_count": 61,
   "metadata": {},
   "outputs": [],
   "source": [
    "TRAIN_MAX_INDEX = 44403"
   ]
  },
  {
   "cell_type": "code",
   "execution_count": null,
   "metadata": {},
   "outputs": [],
   "source": []
  },
  {
   "cell_type": "code",
   "execution_count": 10,
   "metadata": {},
   "outputs": [
    {
     "name": "stderr",
     "output_type": "stream",
     "text": [
      "100%|██████████| 2111/2111 [04:10<00:00,  8.42it/s]\n"
     ]
    }
   ],
   "source": [
    "outputs = []\n",
    "predictions = []\n",
    "# run dataset through model\n",
    "for inputs, idx in tqdm(dataloader):\n",
    "    inputs = inputs.to(device)\n",
    "    model(inputs)"
   ]
  },
  {
   "cell_type": "code",
   "execution_count": 72,
   "metadata": {},
   "outputs": [
    {
     "data": {
      "text/plain": [
       "torch.Size([30, 384, 13, 13])"
      ]
     },
     "execution_count": 72,
     "metadata": {},
     "output_type": "execute_result"
    }
   ],
   "source": [
    "outputs[0].shape"
   ]
  },
  {
   "cell_type": "code",
   "execution_count": 11,
   "metadata": {},
   "outputs": [],
   "source": [
    "stacked_outputs = torch.cat(outputs, dim=0)"
   ]
  },
  {
   "cell_type": "code",
   "execution_count": 12,
   "metadata": {},
   "outputs": [],
   "source": [
    "m = nn.MaxPool2d(2)\n",
    "max_pool_outputs = m(stacked_outputs)"
   ]
  },
  {
   "cell_type": "code",
   "execution_count": 13,
   "metadata": {},
   "outputs": [
    {
     "data": {
      "text/plain": [
       "torch.Size([63305, 384, 6, 6])"
      ]
     },
     "execution_count": 13,
     "metadata": {},
     "output_type": "execute_result"
    }
   ],
   "source": [
    "max_pool_outputs.shape"
   ]
  },
  {
   "cell_type": "code",
   "execution_count": 14,
   "metadata": {},
   "outputs": [],
   "source": [
    "flattened_outputs = max_pool_outputs.reshape((max_pool_outputs.shape[0], np.prod(max_pool_outputs.shape[1:])))"
   ]
  },
  {
   "cell_type": "code",
   "execution_count": 15,
   "metadata": {},
   "outputs": [],
   "source": [
    "# np.savetxt(\"flattened_pool_outputs.csv\", flattened_outputs, delimiter=\",\")"
   ]
  },
  {
   "cell_type": "code",
   "execution_count": 16,
   "metadata": {},
   "outputs": [
    {
     "data": {
      "text/plain": [
       "torch.Size([63305, 13824])"
      ]
     },
     "execution_count": 16,
     "metadata": {},
     "output_type": "execute_result"
    }
   ],
   "source": [
    "flattened_outputs.shape"
   ]
  },
  {
   "cell_type": "code",
   "execution_count": 17,
   "metadata": {},
   "outputs": [],
   "source": [
    "from sklearn.decomposition import PCA\n",
    "from sklearn.preprocessing import normalize\n",
    "from sklearn.preprocessing import StandardScaler\n",
    "from sklearn.svm import LinearSVC"
   ]
  },
  {
   "cell_type": "code",
   "execution_count": 60,
   "metadata": {},
   "outputs": [
    {
     "data": {
      "text/plain": [
       "0.5401557038159224"
      ]
     },
     "execution_count": 60,
     "metadata": {},
     "output_type": "execute_result"
    }
   ],
   "source": [
    "pca = PCA(n_components=100)\n",
    "normalized_outputs = normalize(flattened_outputs)\n",
    "pca.fit(normalized_outputs[:44403]) # just do it on training data\n",
    "np.sum(pca.explained_variance_ratio_)"
   ]
  },
  {
   "cell_type": "code",
   "execution_count": 62,
   "metadata": {},
   "outputs": [],
   "source": [
    "transformed_outputs = pca.transform(normalized_outputs)"
   ]
  },
  {
   "cell_type": "code",
   "execution_count": 63,
   "metadata": {},
   "outputs": [],
   "source": [
    "df['encoded'] = transformed_outputs.tolist() # insert encodings to list"
   ]
  },
  {
   "cell_type": "code",
   "execution_count": 64,
   "metadata": {},
   "outputs": [],
   "source": [
    "# df.to_csv(path_or_buf=data_dir + 'processed_index_with_encodings.csv')"
   ]
  },
  {
   "cell_type": "code",
   "execution_count": 65,
   "metadata": {},
   "outputs": [],
   "source": [
    "SGD_MAX_ITERATIONS = 400\n",
    "SGD_LOSS = \"hinge\"\n",
    "SGD_PENALTY = \"l2\"\n",
    "\n",
    "def train_clf_for_category(df, category):\n",
    "    # Filter out category data from dataframe\n",
    "    pos_df = filter_by_category(df, category)\n",
    "    negative_df = filter_by_not_category(df,category).sample(len(pos_df), replace=True)\n",
    "    \n",
    "    if(len(pos_df) == 0):\n",
    "        print(\"Empty set found for category %i\" % category)\n",
    "        return(None, 0)\n",
    "    \n",
    "    # generate training and validation data for SGDClassifier\n",
    "    train = pos_df[pos_df.split == 'train'].encoded.to_list() + negative_df.sample(len(pos_df[pos_df.split == 'train'])).encoded.to_list()\n",
    "    val = pos_df[pos_df.split == 'val'].encoded.to_list() + negative_df.sample(len(pos_df[pos_df.split == 'val'])).encoded.to_list()\n",
    "        \n",
    "    # scale data\n",
    "#     scaler = StandardScaler()\n",
    "#     scaler.fit(train)  # Don't cheat - fit only on training data\n",
    "#     train = scaler.transform(train)\n",
    "#     val = scaler.transform(val)  # apply same transformation to test data\n",
    "    \n",
    "    train_labels = np.append(np.ones(len(train) // 2), np.zeros(len(train) // 2))\n",
    "    val_labels = np.append(np.ones(len(val) // 2), np.zeros(len(val) // 2))\n",
    "    clf = linear_model.SGDClassifier(max_iter=min(np.ceil(10**6 / len(train_labels)), SGD_MAX_ITERATIONS), loss=SGD_LOSS, early_stopping=True, penalty=SGD_PENALTY, average=True, eta0=1.5)\n",
    "#     clf = LinearSVC(random_state=0, tol=1e-5)\n",
    "    clf.fit(train, train_labels)\n",
    "    return (clf, clf.score(val, val_labels))\n",
    "    return None, 0\n"
   ]
  },
  {
   "cell_type": "code",
   "execution_count": 67,
   "metadata": {},
   "outputs": [
    {
     "name": "stdout",
     "output_type": "stream",
     "text": [
      "0.8962228466443316\n"
     ]
    }
   ],
   "source": [
    "clf, score = train_clf_for_category(df, 1)\n",
    "print(score)"
   ]
  },
  {
   "cell_type": "code",
   "execution_count": 68,
   "metadata": {},
   "outputs": [],
   "source": [
    "# chosen based on frequency in the dataset\n",
    "MAX_CLASSES = 150\n",
    "SCORE_THRESH = 0.75\n",
    "sgd_classifiers = {}"
   ]
  },
  {
   "cell_type": "code",
   "execution_count": 69,
   "metadata": {},
   "outputs": [
    {
     "name": "stderr",
     "output_type": "stream",
     "text": [
      "\n",
      "  0%|          | 0/149 [00:00<?, ?it/s]\u001b[A\n",
      "  1%|          | 1/149 [00:02<06:42,  2.72s/it]\u001b[A\n",
      "  1%|▏         | 2/149 [00:05<06:30,  2.66s/it]\u001b[A\n",
      "  2%|▏         | 3/149 [00:07<06:22,  2.62s/it]\u001b[A\n",
      "  3%|▎         | 4/149 [00:10<06:22,  2.64s/it]\u001b[A\n",
      "  3%|▎         | 5/149 [00:13<06:35,  2.74s/it]\u001b[A\n",
      "  4%|▍         | 6/149 [00:16<06:32,  2.74s/it]\u001b[A\n",
      "  5%|▍         | 7/149 [00:18<06:28,  2.73s/it]\u001b[A"
     ]
    },
    {
     "name": "stdout",
     "output_type": "stream",
     "text": [
      "ignoring clf for category %i with score %i (7, 0.7215756763343895)\n"
     ]
    },
    {
     "name": "stderr",
     "output_type": "stream",
     "text": [
      "\n",
      "  5%|▌         | 8/149 [00:21<06:25,  2.73s/it]\u001b[A\n",
      "  6%|▌         | 9/149 [00:24<06:14,  2.67s/it]\u001b[A\n",
      "  7%|▋         | 10/149 [00:26<06:01,  2.60s/it]\u001b[A\n",
      "  7%|▋         | 11/149 [00:29<05:57,  2.59s/it]\u001b[A\n",
      "  8%|▊         | 12/149 [00:30<05:22,  2.36s/it]\u001b[A"
     ]
    },
    {
     "name": "stdout",
     "output_type": "stream",
     "text": [
      "ignoring clf for category %i with score %i (12, 0.6311242344706912)\n"
     ]
    },
    {
     "name": "stderr",
     "output_type": "stream",
     "text": [
      "\n",
      "  9%|▊         | 13/149 [00:32<04:45,  2.10s/it]\u001b[A\n",
      "  9%|▉         | 14/149 [00:34<04:24,  1.96s/it]\u001b[A"
     ]
    },
    {
     "name": "stdout",
     "output_type": "stream",
     "text": [
      "ignoring clf for category %i with score %i (14, 0.6791631564167369)\n"
     ]
    },
    {
     "name": "stderr",
     "output_type": "stream",
     "text": [
      "\n",
      " 10%|█         | 15/149 [00:35<04:06,  1.84s/it]\u001b[A"
     ]
    },
    {
     "name": "stdout",
     "output_type": "stream",
     "text": [
      "ignoring clf for category %i with score %i (15, 0.7033343720785291)\n"
     ]
    },
    {
     "name": "stderr",
     "output_type": "stream",
     "text": [
      "\n",
      " 11%|█         | 16/149 [00:37<03:54,  1.76s/it]\u001b[A\n",
      " 11%|█▏        | 17/149 [00:38<03:48,  1.73s/it]\u001b[A"
     ]
    },
    {
     "name": "stdout",
     "output_type": "stream",
     "text": [
      "ignoring clf for category %i with score %i (17, 0.7204010184595799)\n"
     ]
    },
    {
     "name": "stderr",
     "output_type": "stream",
     "text": [
      "\n",
      " 12%|█▏        | 18/149 [00:40<03:42,  1.70s/it]\u001b[A\n",
      " 13%|█▎        | 19/149 [00:42<03:40,  1.70s/it]\u001b[A"
     ]
    },
    {
     "name": "stdout",
     "output_type": "stream",
     "text": [
      "ignoring clf for category %i with score %i (19, 0.7239015817223199)\n"
     ]
    },
    {
     "name": "stderr",
     "output_type": "stream",
     "text": [
      "\n",
      " 13%|█▎        | 20/149 [00:43<03:33,  1.65s/it]\u001b[A"
     ]
    },
    {
     "name": "stdout",
     "output_type": "stream",
     "text": [
      "ignoring clf for category %i with score %i (20, 0.7105459985041137)\n"
     ]
    },
    {
     "name": "stderr",
     "output_type": "stream",
     "text": [
      "\n",
      " 14%|█▍        | 21/149 [00:45<03:50,  1.80s/it]\u001b[A"
     ]
    },
    {
     "name": "stdout",
     "output_type": "stream",
     "text": [
      "ignoring clf for category %i with score %i (21, 0.7462624584717608)\n"
     ]
    },
    {
     "name": "stderr",
     "output_type": "stream",
     "text": [
      "\n",
      " 15%|█▍        | 22/149 [00:47<03:53,  1.84s/it]\u001b[A"
     ]
    },
    {
     "name": "stdout",
     "output_type": "stream",
     "text": [
      "ignoring clf for category %i with score %i (22, 0.674613987284287)\n"
     ]
    },
    {
     "name": "stderr",
     "output_type": "stream",
     "text": [
      "\n",
      " 15%|█▌        | 23/149 [00:49<03:43,  1.77s/it]\u001b[A"
     ]
    },
    {
     "name": "stdout",
     "output_type": "stream",
     "text": [
      "ignoring clf for category %i with score %i (23, 0.6934147405146097)\n"
     ]
    },
    {
     "name": "stderr",
     "output_type": "stream",
     "text": [
      "\n",
      " 16%|█▌        | 24/149 [00:51<03:33,  1.71s/it]\u001b[A"
     ]
    },
    {
     "name": "stdout",
     "output_type": "stream",
     "text": [
      "ignoring clf for category %i with score %i (24, 0.7035102381947347)\n"
     ]
    },
    {
     "name": "stderr",
     "output_type": "stream",
     "text": [
      "\n",
      " 17%|█▋        | 25/149 [00:52<03:39,  1.77s/it]\u001b[A\n",
      " 17%|█▋        | 26/149 [00:54<03:45,  1.84s/it]\u001b[A\n",
      " 18%|█▊        | 27/149 [00:56<03:34,  1.76s/it]\u001b[A"
     ]
    },
    {
     "name": "stdout",
     "output_type": "stream",
     "text": [
      "ignoring clf for category %i with score %i (27, 0.6959161147902869)\n"
     ]
    },
    {
     "name": "stderr",
     "output_type": "stream",
     "text": [
      "\n",
      " 19%|█▉        | 28/149 [00:58<03:53,  1.93s/it]\u001b[A"
     ]
    },
    {
     "name": "stdout",
     "output_type": "stream",
     "text": [
      "ignoring clf for category %i with score %i (28, 0.6925717852684145)\n"
     ]
    },
    {
     "name": "stderr",
     "output_type": "stream",
     "text": [
      "\n",
      " 19%|█▉        | 29/149 [01:00<03:38,  1.82s/it]\u001b[A\n",
      " 20%|██        | 30/149 [01:01<03:24,  1.72s/it]\u001b[A"
     ]
    },
    {
     "name": "stdout",
     "output_type": "stream",
     "text": [
      "ignoring clf for category %i with score %i (30, 0.7115501519756839)\n"
     ]
    },
    {
     "name": "stderr",
     "output_type": "stream",
     "text": [
      "\n",
      " 21%|██        | 31/149 [01:03<03:15,  1.65s/it]\u001b[A\n",
      " 21%|██▏       | 32/149 [01:05<03:18,  1.70s/it]\u001b[A\n",
      " 22%|██▏       | 33/149 [01:06<03:19,  1.72s/it]\u001b[A\n",
      " 23%|██▎       | 34/149 [01:08<03:25,  1.79s/it]\u001b[A"
     ]
    },
    {
     "name": "stdout",
     "output_type": "stream",
     "text": [
      "ignoring clf for category %i with score %i (34, 0.7142857142857143)\n"
     ]
    },
    {
     "name": "stderr",
     "output_type": "stream",
     "text": [
      "\n",
      " 23%|██▎       | 35/149 [01:10<03:21,  1.77s/it]\u001b[A"
     ]
    },
    {
     "name": "stdout",
     "output_type": "stream",
     "text": [
      "ignoring clf for category %i with score %i (35, 0.7355898123324397)\n"
     ]
    },
    {
     "name": "stderr",
     "output_type": "stream",
     "text": [
      "\n",
      " 24%|██▍       | 36/149 [01:12<03:13,  1.71s/it]\u001b[A"
     ]
    },
    {
     "name": "stdout",
     "output_type": "stream",
     "text": [
      "ignoring clf for category %i with score %i (36, 0.6878396739130435)\n"
     ]
    },
    {
     "name": "stderr",
     "output_type": "stream",
     "text": [
      "\n",
      " 25%|██▍       | 37/149 [01:13<03:04,  1.64s/it]\u001b[A\n",
      " 26%|██▌       | 38/149 [01:15<02:56,  1.59s/it]\u001b[A\n",
      " 26%|██▌       | 39/149 [01:16<02:57,  1.61s/it]\u001b[A\n",
      " 27%|██▋       | 40/149 [01:18<02:57,  1.63s/it]\u001b[A"
     ]
    },
    {
     "name": "stdout",
     "output_type": "stream",
     "text": [
      "ignoring clf for category %i with score %i (40, 0.7335708630245448)\n"
     ]
    },
    {
     "name": "stderr",
     "output_type": "stream",
     "text": [
      "\n",
      " 28%|██▊       | 41/149 [01:19<02:52,  1.60s/it]\u001b[A"
     ]
    },
    {
     "name": "stdout",
     "output_type": "stream",
     "text": [
      "ignoring clf for category %i with score %i (41, 0.7306122448979592)\n"
     ]
    },
    {
     "name": "stderr",
     "output_type": "stream",
     "text": [
      "\n",
      " 28%|██▊       | 42/149 [01:21<02:51,  1.60s/it]\u001b[A\n",
      " 29%|██▉       | 43/149 [01:23<02:46,  1.57s/it]\u001b[A\n",
      " 30%|██▉       | 44/149 [01:24<02:54,  1.66s/it]\u001b[A\n",
      " 30%|███       | 45/149 [01:26<02:47,  1.62s/it]\u001b[A"
     ]
    },
    {
     "name": "stdout",
     "output_type": "stream",
     "text": [
      "ignoring clf for category %i with score %i (45, 0.7393278837420527)\n"
     ]
    },
    {
     "name": "stderr",
     "output_type": "stream",
     "text": [
      "\n",
      " 31%|███       | 46/149 [01:28<03:04,  1.79s/it]\u001b[A"
     ]
    },
    {
     "name": "stdout",
     "output_type": "stream",
     "text": [
      "ignoring clf for category %i with score %i (46, 0.7192660550458716)\n"
     ]
    },
    {
     "name": "stderr",
     "output_type": "stream",
     "text": [
      "\n",
      " 32%|███▏      | 47/149 [01:30<03:09,  1.85s/it]\u001b[A\n",
      " 32%|███▏      | 48/149 [01:32<03:09,  1.87s/it]\u001b[A"
     ]
    },
    {
     "name": "stdout",
     "output_type": "stream",
     "text": [
      "ignoring clf for category %i with score %i (48, 0.7072649572649573)\n"
     ]
    },
    {
     "name": "stderr",
     "output_type": "stream",
     "text": [
      "\n",
      " 33%|███▎      | 49/149 [01:34<03:11,  1.91s/it]\u001b[A"
     ]
    },
    {
     "name": "stdout",
     "output_type": "stream",
     "text": [
      "ignoring clf for category %i with score %i (49, 0.6998050682261209)\n"
     ]
    },
    {
     "name": "stderr",
     "output_type": "stream",
     "text": [
      "\n",
      " 34%|███▎      | 50/149 [01:36<03:05,  1.87s/it]\u001b[A\n",
      " 34%|███▍      | 51/149 [01:38<02:57,  1.81s/it]\u001b[A\n",
      " 35%|███▍      | 52/149 [01:39<02:48,  1.74s/it]\u001b[A\n",
      " 36%|███▌      | 53/149 [01:41<02:41,  1.68s/it]\u001b[A\n",
      " 36%|███▌      | 54/149 [01:42<02:36,  1.64s/it]\u001b[A\n",
      " 37%|███▋      | 55/149 [01:44<02:29,  1.59s/it]\u001b[A\n",
      " 38%|███▊      | 56/149 [01:45<02:31,  1.63s/it]\u001b[A\n",
      " 38%|███▊      | 57/149 [01:47<02:33,  1.66s/it]\u001b[A\n",
      " 39%|███▉      | 58/149 [01:49<02:32,  1.68s/it]\u001b[A\n",
      " 40%|███▉      | 59/149 [01:49<01:48,  1.20s/it]\u001b[A"
     ]
    },
    {
     "name": "stdout",
     "output_type": "stream",
     "text": [
      "ignoring clf for category %i with score %i (58, 0.7298578199052133)\n",
      "Empty set found for category 59\n",
      "ignoring clf for category %i with score %i (59, 0)\n"
     ]
    },
    {
     "name": "stderr",
     "output_type": "stream",
     "text": [
      "\n",
      " 40%|████      | 60/149 [01:50<01:50,  1.25s/it]\u001b[A\n",
      " 41%|████      | 61/149 [01:52<01:56,  1.32s/it]\u001b[A\n",
      " 42%|████▏     | 62/149 [01:53<01:54,  1.31s/it]\u001b[A\n",
      " 42%|████▏     | 63/149 [01:55<01:57,  1.37s/it]\u001b[A"
     ]
    },
    {
     "name": "stdout",
     "output_type": "stream",
     "text": [
      "ignoring clf for category %i with score %i (63, 0.7186468646864687)\n"
     ]
    },
    {
     "name": "stderr",
     "output_type": "stream",
     "text": [
      "\n",
      " 43%|████▎     | 64/149 [01:57<02:14,  1.58s/it]\u001b[A"
     ]
    },
    {
     "name": "stdout",
     "output_type": "stream",
     "text": [
      "ignoring clf for category %i with score %i (64, 0.7383512544802867)\n"
     ]
    },
    {
     "name": "stderr",
     "output_type": "stream",
     "text": [
      "\n",
      " 44%|████▎     | 65/149 [02:00<02:45,  1.97s/it]\u001b[A"
     ]
    },
    {
     "name": "stdout",
     "output_type": "stream",
     "text": [
      "ignoring clf for category %i with score %i (65, 0.6978827361563518)\n"
     ]
    },
    {
     "name": "stderr",
     "output_type": "stream",
     "text": [
      "\n",
      " 44%|████▍     | 66/149 [02:01<02:32,  1.84s/it]\u001b[A\n",
      " 45%|████▍     | 67/149 [02:03<02:28,  1.82s/it]\u001b[A\n",
      " 46%|████▌     | 68/149 [02:05<02:27,  1.82s/it]\u001b[A\n",
      " 46%|████▋     | 69/149 [02:06<02:19,  1.74s/it]\u001b[A"
     ]
    },
    {
     "name": "stdout",
     "output_type": "stream",
     "text": [
      "ignoring clf for category %i with score %i (69, 0.6711864406779661)\n"
     ]
    },
    {
     "name": "stderr",
     "output_type": "stream",
     "text": [
      "\n",
      " 47%|████▋     | 70/149 [02:08<02:22,  1.81s/it]\u001b[A"
     ]
    },
    {
     "name": "stdout",
     "output_type": "stream",
     "text": [
      "ignoring clf for category %i with score %i (70, 0.6541353383458647)\n"
     ]
    },
    {
     "name": "stderr",
     "output_type": "stream",
     "text": [
      "\n",
      " 48%|████▊     | 71/149 [02:10<02:26,  1.88s/it]\u001b[A"
     ]
    },
    {
     "name": "stdout",
     "output_type": "stream",
     "text": [
      "ignoring clf for category %i with score %i (71, 0.7005253940455342)\n"
     ]
    },
    {
     "name": "stderr",
     "output_type": "stream",
     "text": [
      "\n",
      " 48%|████▊     | 72/149 [02:12<02:15,  1.76s/it]\u001b[A"
     ]
    },
    {
     "name": "stdout",
     "output_type": "stream",
     "text": [
      "ignoring clf for category %i with score %i (72, 0.7428884026258206)\n"
     ]
    },
    {
     "name": "stderr",
     "output_type": "stream",
     "text": [
      "\n",
      " 49%|████▉     | 73/149 [02:13<02:09,  1.71s/it]\u001b[A\n",
      " 50%|████▉     | 74/149 [02:15<02:12,  1.76s/it]\u001b[A\n",
      " 50%|█████     | 75/149 [02:17<02:03,  1.67s/it]\u001b[A\n",
      " 51%|█████     | 76/149 [02:18<01:58,  1.62s/it]\u001b[A"
     ]
    },
    {
     "name": "stdout",
     "output_type": "stream",
     "text": [
      "ignoring clf for category %i with score %i (76, 0.7084257206208425)\n"
     ]
    },
    {
     "name": "stderr",
     "output_type": "stream",
     "text": [
      "\n",
      " 52%|█████▏    | 77/149 [02:20<01:52,  1.57s/it]\u001b[A\n",
      " 52%|█████▏    | 78/149 [02:21<01:52,  1.58s/it]\u001b[A"
     ]
    },
    {
     "name": "stdout",
     "output_type": "stream",
     "text": [
      "ignoring clf for category %i with score %i (78, 0.7098393574297188)\n"
     ]
    },
    {
     "name": "stderr",
     "output_type": "stream",
     "text": [
      "\n",
      " 53%|█████▎    | 79/149 [02:23<01:47,  1.54s/it]\u001b[A"
     ]
    },
    {
     "name": "stdout",
     "output_type": "stream",
     "text": [
      "ignoring clf for category %i with score %i (79, 0.7027310924369747)\n"
     ]
    },
    {
     "name": "stderr",
     "output_type": "stream",
     "text": [
      "\n",
      " 54%|█████▎    | 80/149 [02:24<01:50,  1.61s/it]\u001b[A"
     ]
    },
    {
     "name": "stdout",
     "output_type": "stream",
     "text": [
      "ignoring clf for category %i with score %i (80, 0.6903765690376569)\n"
     ]
    },
    {
     "name": "stderr",
     "output_type": "stream",
     "text": [
      "\n",
      " 54%|█████▍    | 81/149 [02:26<01:52,  1.66s/it]\u001b[A"
     ]
    },
    {
     "name": "stdout",
     "output_type": "stream",
     "text": [
      "ignoring clf for category %i with score %i (81, 0.7229038854805726)\n"
     ]
    },
    {
     "name": "stderr",
     "output_type": "stream",
     "text": [
      "\n",
      " 55%|█████▌    | 82/149 [02:28<01:57,  1.75s/it]\u001b[A"
     ]
    },
    {
     "name": "stdout",
     "output_type": "stream",
     "text": [
      "Empty set found for category 83\n",
      "ignoring clf for category %i with score %i (83, 0)\n"
     ]
    },
    {
     "name": "stderr",
     "output_type": "stream",
     "text": [
      "\n",
      " 56%|█████▋    | 84/149 [02:30<01:34,  1.45s/it]\u001b[A"
     ]
    },
    {
     "name": "stdout",
     "output_type": "stream",
     "text": [
      "ignoring clf for category %i with score %i (84, 0.6904231625835189)\n"
     ]
    },
    {
     "name": "stderr",
     "output_type": "stream",
     "text": [
      "\n",
      " 57%|█████▋    | 85/149 [02:31<01:32,  1.45s/it]\u001b[A\n",
      " 58%|█████▊    | 86/149 [02:32<01:27,  1.39s/it]\u001b[A"
     ]
    },
    {
     "name": "stdout",
     "output_type": "stream",
     "text": [
      "ignoring clf for category %i with score %i (86, 0.6898047722342733)\n"
     ]
    },
    {
     "name": "stderr",
     "output_type": "stream",
     "text": [
      "\n",
      " 58%|█████▊    | 87/149 [02:33<01:21,  1.31s/it]\u001b[A\n",
      " 59%|█████▉    | 88/149 [02:35<01:17,  1.27s/it]\u001b[A\n",
      " 60%|█████▉    | 89/149 [02:36<01:13,  1.23s/it]\u001b[A"
     ]
    },
    {
     "name": "stdout",
     "output_type": "stream",
     "text": [
      "ignoring clf for category %i with score %i (89, 0.6520681265206812)\n"
     ]
    },
    {
     "name": "stderr",
     "output_type": "stream",
     "text": [
      "\n",
      " 60%|██████    | 90/149 [02:37<01:10,  1.20s/it]\u001b[A\n",
      " 61%|██████    | 91/149 [02:38<01:08,  1.18s/it]\u001b[A\n",
      " 62%|██████▏   | 92/149 [02:39<01:07,  1.18s/it]\u001b[A"
     ]
    },
    {
     "name": "stdout",
     "output_type": "stream",
     "text": [
      "ignoring clf for category %i with score %i (92, 0.7389610389610389)\n"
     ]
    },
    {
     "name": "stderr",
     "output_type": "stream",
     "text": [
      "\n",
      " 62%|██████▏   | 93/149 [02:40<01:05,  1.16s/it]\u001b[A\n",
      " 63%|██████▎   | 94/149 [02:42<01:04,  1.17s/it]\u001b[A\n",
      " 64%|██████▍   | 95/149 [02:43<01:02,  1.16s/it]\u001b[A\n",
      " 64%|██████▍   | 96/149 [02:44<00:59,  1.13s/it]\u001b[A\n",
      " 65%|██████▌   | 97/149 [02:45<00:58,  1.13s/it]\u001b[A\n",
      " 66%|██████▌   | 98/149 [02:46<00:57,  1.13s/it]\u001b[A\n",
      " 66%|██████▋   | 99/149 [02:47<00:55,  1.10s/it]\u001b[A\n",
      " 67%|██████▋   | 100/149 [02:49<01:01,  1.26s/it]\u001b[A"
     ]
    },
    {
     "name": "stdout",
     "output_type": "stream",
     "text": [
      "ignoring clf for category %i with score %i (100, 0.729106628242075)\n"
     ]
    },
    {
     "name": "stderr",
     "output_type": "stream",
     "text": [
      "\n",
      " 68%|██████▊   | 101/149 [02:50<00:56,  1.18s/it]\u001b[A\n",
      " 68%|██████▊   | 102/149 [02:51<00:52,  1.12s/it]\u001b[A\n",
      " 69%|██████▉   | 103/149 [02:52<00:50,  1.11s/it]\u001b[A\n",
      " 70%|██████▉   | 104/149 [02:53<00:49,  1.10s/it]\u001b[A\n",
      " 70%|███████   | 105/149 [02:54<00:46,  1.05s/it]\u001b[A\n",
      " 71%|███████   | 106/149 [02:55<00:43,  1.02s/it]\u001b[A\n",
      " 72%|███████▏  | 107/149 [02:56<00:40,  1.03it/s]\u001b[A"
     ]
    },
    {
     "name": "stdout",
     "output_type": "stream",
     "text": [
      "ignoring clf for category %i with score %i (107, 0.7412587412587412)\n"
     ]
    },
    {
     "name": "stderr",
     "output_type": "stream",
     "text": [
      "\n",
      " 72%|███████▏  | 108/149 [02:57<00:40,  1.01it/s]\u001b[A\n",
      " 73%|███████▎  | 109/149 [02:58<00:42,  1.05s/it]\u001b[A"
     ]
    },
    {
     "name": "stdout",
     "output_type": "stream",
     "text": [
      "ignoring clf for category %i with score %i (109, 0.7276264591439688)\n"
     ]
    },
    {
     "name": "stderr",
     "output_type": "stream",
     "text": [
      "\n",
      " 74%|███████▍  | 110/149 [02:59<00:44,  1.14s/it]\u001b[A"
     ]
    },
    {
     "name": "stdout",
     "output_type": "stream",
     "text": [
      "ignoring clf for category %i with score %i (110, 0.710820895522388)\n"
     ]
    },
    {
     "name": "stderr",
     "output_type": "stream",
     "text": [
      "\n",
      " 74%|███████▍  | 111/149 [03:01<00:47,  1.24s/it]\u001b[A"
     ]
    },
    {
     "name": "stdout",
     "output_type": "stream",
     "text": [
      "ignoring clf for category %i with score %i (111, 0.7106299212598425)\n"
     ]
    },
    {
     "name": "stderr",
     "output_type": "stream",
     "text": [
      "\n",
      " 75%|███████▌  | 112/149 [03:02<00:42,  1.15s/it]\u001b[A"
     ]
    },
    {
     "name": "stdout",
     "output_type": "stream",
     "text": [
      "ignoring clf for category %i with score %i (112, 0.6902985074626866)\n"
     ]
    },
    {
     "name": "stderr",
     "output_type": "stream",
     "text": [
      "\n",
      " 76%|███████▌  | 113/149 [03:03<00:39,  1.10s/it]\u001b[A"
     ]
    },
    {
     "name": "stdout",
     "output_type": "stream",
     "text": [
      "ignoring clf for category %i with score %i (113, 0.7222222222222222)\n"
     ]
    },
    {
     "name": "stderr",
     "output_type": "stream",
     "text": [
      "\n",
      " 77%|███████▋  | 114/149 [03:04<00:38,  1.09s/it]\u001b[A\n",
      " 77%|███████▋  | 115/149 [03:05<00:35,  1.06s/it]\u001b[A\n",
      " 78%|███████▊  | 116/149 [03:05<00:32,  1.03it/s]\u001b[A\n",
      " 79%|███████▊  | 117/149 [03:06<00:30,  1.05it/s]\u001b[A\n",
      " 79%|███████▉  | 118/149 [03:07<00:29,  1.04it/s]\u001b[A\n",
      " 80%|███████▉  | 119/149 [03:08<00:31,  1.04s/it]\u001b[A"
     ]
    },
    {
     "name": "stdout",
     "output_type": "stream",
     "text": [
      "ignoring clf for category %i with score %i (119, 0.737410071942446)\n"
     ]
    },
    {
     "name": "stderr",
     "output_type": "stream",
     "text": [
      "\n",
      " 81%|████████  | 120/149 [03:09<00:29,  1.00s/it]\u001b[A\n",
      " 81%|████████  | 121/149 [03:11<00:30,  1.08s/it]\u001b[A"
     ]
    },
    {
     "name": "stdout",
     "output_type": "stream",
     "text": [
      "ignoring clf for category %i with score %i (121, 0.6855895196506551)\n"
     ]
    },
    {
     "name": "stderr",
     "output_type": "stream",
     "text": [
      "\n",
      " 82%|████████▏ | 122/149 [03:12<00:27,  1.04s/it]\u001b[A"
     ]
    },
    {
     "name": "stdout",
     "output_type": "stream",
     "text": [
      "ignoring clf for category %i with score %i (122, 0.7065637065637066)\n"
     ]
    },
    {
     "name": "stderr",
     "output_type": "stream",
     "text": [
      "\n",
      " 83%|████████▎ | 123/149 [03:13<00:26,  1.04s/it]\u001b[A\n",
      " 83%|████████▎ | 124/149 [03:14<00:24,  1.00it/s]\u001b[A\n",
      " 84%|████████▍ | 125/149 [03:14<00:23,  1.02it/s]\u001b[A\n",
      " 85%|████████▍ | 126/149 [03:15<00:16,  1.39it/s]\u001b[A"
     ]
    },
    {
     "name": "stdout",
     "output_type": "stream",
     "text": [
      "Empty set found for category 126\n",
      "ignoring clf for category %i with score %i (126, 0)\n"
     ]
    },
    {
     "name": "stderr",
     "output_type": "stream",
     "text": [
      "\n",
      " 85%|████████▌ | 127/149 [03:15<00:16,  1.35it/s]\u001b[A\n",
      " 86%|████████▌ | 128/149 [03:17<00:18,  1.13it/s]\u001b[A\n",
      " 87%|████████▋ | 129/149 [03:18<00:17,  1.11it/s]\u001b[A"
     ]
    },
    {
     "name": "stdout",
     "output_type": "stream",
     "text": [
      "ignoring clf for category %i with score %i (129, 0.7401960784313726)\n",
      "Empty set found for category 130\n",
      "ignoring clf for category %i with score %i (130, 0)\n"
     ]
    },
    {
     "name": "stderr",
     "output_type": "stream",
     "text": [
      "\n",
      " 88%|████████▊ | 131/149 [03:19<00:14,  1.21it/s]\u001b[A\n",
      " 89%|████████▊ | 132/149 [03:20<00:14,  1.14it/s]\u001b[A"
     ]
    },
    {
     "name": "stdout",
     "output_type": "stream",
     "text": [
      "ignoring clf for category %i with score %i (132, 0.6773504273504274)\n"
     ]
    },
    {
     "name": "stderr",
     "output_type": "stream",
     "text": [
      "\n",
      " 89%|████████▉ | 133/149 [03:21<00:14,  1.11it/s]\u001b[A\n",
      " 90%|████████▉ | 134/149 [03:21<00:10,  1.47it/s]\u001b[A"
     ]
    },
    {
     "name": "stdout",
     "output_type": "stream",
     "text": [
      "Empty set found for category 134\n",
      "ignoring clf for category %i with score %i (134, 0)\n"
     ]
    },
    {
     "name": "stderr",
     "output_type": "stream",
     "text": [
      "\n",
      " 91%|█████████ | 135/149 [03:22<00:09,  1.43it/s]\u001b[A\n",
      " 91%|█████████▏| 136/149 [03:23<00:09,  1.36it/s]\u001b[A"
     ]
    },
    {
     "name": "stdout",
     "output_type": "stream",
     "text": [
      "ignoring clf for category %i with score %i (136, 0.7241379310344828)\n"
     ]
    },
    {
     "name": "stderr",
     "output_type": "stream",
     "text": [
      "\n",
      " 92%|█████████▏| 137/149 [03:23<00:09,  1.33it/s]\u001b[A\n",
      " 93%|█████████▎| 138/149 [03:24<00:08,  1.25it/s]\u001b[A\n",
      " 93%|█████████▎| 139/149 [03:25<00:08,  1.22it/s]\u001b[A\n",
      " 94%|█████████▍| 140/149 [03:26<00:07,  1.27it/s]\u001b[A\n",
      " 95%|█████████▍| 141/149 [03:27<00:06,  1.29it/s]\u001b[A\n",
      " 95%|█████████▌| 142/149 [03:27<00:05,  1.30it/s]\u001b[A\n",
      " 96%|█████████▌| 143/149 [03:29<00:06,  1.00s/it]\u001b[A\n",
      " 97%|█████████▋| 144/149 [03:30<00:05,  1.07s/it]\u001b[A\n",
      " 97%|█████████▋| 145/149 [03:31<00:04,  1.04s/it]\u001b[A"
     ]
    },
    {
     "name": "stdout",
     "output_type": "stream",
     "text": [
      "ignoring clf for category %i with score %i (145, 0.6640211640211641)\n"
     ]
    },
    {
     "name": "stderr",
     "output_type": "stream",
     "text": [
      "\n",
      " 98%|█████████▊| 146/149 [03:32<00:02,  1.07it/s]\u001b[A\n",
      " 99%|█████████▊| 147/149 [03:33<00:01,  1.10it/s]\u001b[A"
     ]
    },
    {
     "name": "stdout",
     "output_type": "stream",
     "text": [
      "ignoring clf for category %i with score %i (147, 0.6813186813186813)\n"
     ]
    },
    {
     "name": "stderr",
     "output_type": "stream",
     "text": [
      "\n",
      " 99%|█████████▉| 148/149 [03:33<00:00,  1.13it/s]\u001b[A"
     ]
    },
    {
     "name": "stdout",
     "output_type": "stream",
     "text": [
      "ignoring clf for category %i with score %i (148, 0.7194444444444444)\n"
     ]
    },
    {
     "name": "stderr",
     "output_type": "stream",
     "text": [
      "\n",
      "100%|██████████| 149/149 [03:34<00:00,  1.20it/s]\u001b[A"
     ]
    }
   ],
   "source": [
    "for i in tqdm(range(1, MAX_CLASSES)):\n",
    "    clf, score = train_clf_for_category(df, i)\n",
    "    if(score > SCORE_THRESH):\n",
    "        sgd_classifiers[i] = (clf, score)\n",
    "    else:\n",
    "        print(\"ignoring clf for category %i with score %i\", (i, score))"
   ]
  },
  {
   "cell_type": "code",
   "execution_count": 70,
   "metadata": {},
   "outputs": [],
   "source": [
    "import pickle\n",
    "\n",
    "# Store data (serialize)\n",
    "with open('classifiers.pickle', 'wb') as handle:\n",
    "    pickle.dump(sgd_classifiers, handle, protocol=pickle.HIGHEST_PROTOCOL)\n",
    "\n"
   ]
  },
  {
   "cell_type": "code",
   "execution_count": 71,
   "metadata": {},
   "outputs": [
    {
     "data": {
      "text/plain": [
       "88"
      ]
     },
     "execution_count": 71,
     "metadata": {},
     "output_type": "execute_result"
    }
   ],
   "source": [
    "len (sgd_classifiers)"
   ]
  },
  {
   "cell_type": "code",
   "execution_count": null,
   "metadata": {},
   "outputs": [],
   "source": []
  }
 ],
 "metadata": {
  "kernelspec": {
   "display_name": "Python (torch2)",
   "language": "python",
   "name": "myenv"
  },
  "language_info": {
   "codemirror_mode": {
    "name": "ipython",
    "version": 2
   },
   "file_extension": ".py",
   "mimetype": "text/x-python",
   "name": "python",
   "nbconvert_exporter": "python",
   "pygments_lexer": "ipython2",
   "version": "2.7.16"
  }
 },
 "nbformat": 4,
 "nbformat_minor": 2
}
